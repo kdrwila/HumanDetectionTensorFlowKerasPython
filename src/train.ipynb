{
 "cells": [
  {
   "cell_type": "markdown",
   "metadata": {},
   "source": [
    "Instalacja potrzebnych bibliotek tensorflow i keras"
   ]
  },
  {
   "cell_type": "code",
   "execution_count": 1,
   "metadata": {},
   "outputs": [
    {
     "name": "stdout",
     "output_type": "stream",
     "text": [
      "Collecting package metadata (current_repodata.json): done\n",
      "Solving environment: done\n",
      "\n",
      "\n",
      "==> WARNING: A newer version of conda exists. <==\n",
      "  current version: 4.7.10\n",
      "  latest version: 4.7.12\n",
      "\n",
      "Please update conda by running\n",
      "\n",
      "    $ conda update -n base conda\n",
      "\n",
      "\n",
      "\n",
      "## Package Plan ##\n",
      "\n",
      "  environment location: /opt/conda\n",
      "\n",
      "  added / updated specs:\n",
      "    - tensorflow\n",
      "\n",
      "\n",
      "The following packages will be downloaded:\n",
      "\n",
      "    package                    |            build\n",
      "    ---------------------------|-----------------\n",
      "    _tflow_select-2.3.0        |              mkl           2 KB  defaults\n",
      "    absl-py-0.8.0              |           py37_0         157 KB  conda-forge\n",
      "    astor-0.7.1                |             py_0          22 KB  conda-forge\n",
      "    c-ares-1.15.0              |    h516909a_1001         100 KB  conda-forge\n",
      "    ca-certificates-2019.9.11  |       hecc5488_0         144 KB  conda-forge\n",
      "    certifi-2019.9.11          |           py37_0         147 KB  conda-forge\n",
      "    gast-0.3.2                 |             py_0          11 KB  conda-forge\n",
      "    google-pasta-0.1.7         |             py_0          40 KB  conda-forge\n",
      "    grpcio-1.23.0              |   py37he9ae1f9_0         1.1 MB  conda-forge\n",
      "    keras-applications-1.0.8   |             py_1          30 KB  conda-forge\n",
      "    keras-preprocessing-1.1.0  |             py_0          33 KB  conda-forge\n",
      "    markdown-3.1.1             |             py_0          60 KB  conda-forge\n",
      "    tensorboard-1.14.0         |           py37_0         3.2 MB  conda-forge\n",
      "    tensorflow-1.14.0          |mkl_py37h45c423b_0           4 KB  defaults\n",
      "    tensorflow-base-1.14.0     |mkl_py37h7ce6ba3_0        84.4 MB  defaults\n",
      "    tensorflow-estimator-1.14.0|   py37h5ca1d4c_0         645 KB  conda-forge\n",
      "    termcolor-1.1.0            |             py_2           6 KB  conda-forge\n",
      "    werkzeug-0.15.6            |             py_0         260 KB  conda-forge\n",
      "    wrapt-1.11.2               |   py37h516909a_0          46 KB  conda-forge\n",
      "    ------------------------------------------------------------\n",
      "                                           Total:        90.4 MB\n",
      "\n",
      "The following NEW packages will be INSTALLED:\n",
      "\n",
      "  _tflow_select      pkgs/main/linux-64::_tflow_select-2.3.0-mkl\n",
      "  absl-py            conda-forge/linux-64::absl-py-0.8.0-py37_0\n",
      "  astor              conda-forge/noarch::astor-0.7.1-py_0\n",
      "  c-ares             conda-forge/linux-64::c-ares-1.15.0-h516909a_1001\n",
      "  gast               conda-forge/noarch::gast-0.3.2-py_0\n",
      "  google-pasta       conda-forge/noarch::google-pasta-0.1.7-py_0\n",
      "  grpcio             conda-forge/linux-64::grpcio-1.23.0-py37he9ae1f9_0\n",
      "  keras-applications conda-forge/noarch::keras-applications-1.0.8-py_1\n",
      "  keras-preprocessi~ conda-forge/noarch::keras-preprocessing-1.1.0-py_0\n",
      "  markdown           conda-forge/noarch::markdown-3.1.1-py_0\n",
      "  tensorboard        conda-forge/linux-64::tensorboard-1.14.0-py37_0\n",
      "  tensorflow         pkgs/main/linux-64::tensorflow-1.14.0-mkl_py37h45c423b_0\n",
      "  tensorflow-base    pkgs/main/linux-64::tensorflow-base-1.14.0-mkl_py37h7ce6ba3_0\n",
      "  tensorflow-estima~ conda-forge/linux-64::tensorflow-estimator-1.14.0-py37h5ca1d4c_0\n",
      "  termcolor          conda-forge/noarch::termcolor-1.1.0-py_2\n",
      "  werkzeug           conda-forge/noarch::werkzeug-0.15.6-py_0\n",
      "  wrapt              conda-forge/linux-64::wrapt-1.11.2-py37h516909a_0\n",
      "\n",
      "The following packages will be UPDATED:\n",
      "\n",
      "  ca-certificates                      2019.6.16-hecc5488_0 --> 2019.9.11-hecc5488_0\n",
      "  certifi                                  2019.6.16-py37_1 --> 2019.9.11-py37_0\n",
      "\n",
      "\n",
      "\n",
      "Downloading and Extracting Packages\n",
      "gast-0.3.2           | 11 KB     | ##################################### | 100% \n",
      "ca-certificates-2019 | 144 KB    | ##################################### | 100% \n",
      "absl-py-0.8.0        | 157 KB    | ##################################### | 100% \n",
      "markdown-3.1.1       | 60 KB     | ##################################### | 100% \n",
      "tensorboard-1.14.0   | 3.2 MB    | ##################################### | 100% \n",
      "keras-preprocessing- | 33 KB     | ##################################### | 100% \n",
      "werkzeug-0.15.6      | 260 KB    | ##################################### | 100% \n",
      "google-pasta-0.1.7   | 40 KB     | ##################################### | 100% \n",
      "termcolor-1.1.0      | 6 KB      | ##################################### | 100% \n",
      "astor-0.7.1          | 22 KB     | ##################################### | 100% \n",
      "_tflow_select-2.3.0  | 2 KB      | ##################################### | 100% \n",
      "keras-applications-1 | 30 KB     | ##################################### | 100% \n",
      "wrapt-1.11.2         | 46 KB     | ##################################### | 100% \n",
      "tensorflow-1.14.0    | 4 KB      | ##################################### | 100% \n",
      "tensorflow-estimator | 645 KB    | ##################################### | 100% \n",
      "c-ares-1.15.0        | 100 KB    | ##################################### | 100% \n",
      "certifi-2019.9.11    | 147 KB    | ##################################### | 100% \n",
      "grpcio-1.23.0        | 1.1 MB    | ##################################### | 100% \n",
      "tensorflow-base-1.14 | 84.4 MB   | ##################################### | 100% \n",
      "Preparing transaction: done\n",
      "Verifying transaction: done\n",
      "Executing transaction: done\n"
     ]
    }
   ],
   "source": [
    "import sys\n",
    "!conda install --yes --prefix {sys.prefix} tensorflow"
   ]
  },
  {
   "cell_type": "code",
   "execution_count": 2,
   "metadata": {},
   "outputs": [
    {
     "name": "stdout",
     "output_type": "stream",
     "text": [
      "Collecting package metadata (current_repodata.json): done\n",
      "Solving environment: done\n",
      "\n",
      "\n",
      "==> WARNING: A newer version of conda exists. <==\n",
      "  current version: 4.7.10\n",
      "  latest version: 4.7.12\n",
      "\n",
      "Please update conda by running\n",
      "\n",
      "    $ conda update -n base conda\n",
      "\n",
      "\n",
      "\n",
      "## Package Plan ##\n",
      "\n",
      "  environment location: /opt/conda\n",
      "\n",
      "  added / updated specs:\n",
      "    - keras\n",
      "\n",
      "\n",
      "The following packages will be downloaded:\n",
      "\n",
      "    package                    |            build\n",
      "    ---------------------------|-----------------\n",
      "    keras-2.2.5                |           py37_1         538 KB  conda-forge\n",
      "    libgpuarray-0.7.6          |    h14c3975_1003         263 KB  conda-forge\n",
      "    pygpu-0.7.6                |py37h3010b51_1000         683 KB  conda-forge\n",
      "    theano-1.0.4               |py37hf484d3e_1000         3.6 MB  conda-forge\n",
      "    ------------------------------------------------------------\n",
      "                                           Total:         5.1 MB\n",
      "\n",
      "The following NEW packages will be INSTALLED:\n",
      "\n",
      "  keras              conda-forge/linux-64::keras-2.2.5-py37_1\n",
      "  libgpuarray        conda-forge/linux-64::libgpuarray-0.7.6-h14c3975_1003\n",
      "  pygpu              conda-forge/linux-64::pygpu-0.7.6-py37h3010b51_1000\n",
      "  theano             conda-forge/linux-64::theano-1.0.4-py37hf484d3e_1000\n",
      "\n",
      "\n",
      "\n",
      "Downloading and Extracting Packages\n",
      "theano-1.0.4         | 3.6 MB    | ##################################### | 100% \n",
      "pygpu-0.7.6          | 683 KB    | ##################################### | 100% \n",
      "libgpuarray-0.7.6    | 263 KB    | ##################################### | 100% \n",
      "keras-2.2.5          | 538 KB    | ##################################### | 100% \n",
      "Preparing transaction: done\n",
      "Verifying transaction: done\n",
      "Executing transaction: done\n"
     ]
    }
   ],
   "source": [
    "import sys\n",
    "!conda install --yes --prefix {sys.prefix} keras"
   ]
  },
  {
   "cell_type": "markdown",
   "metadata": {},
   "source": [
    "Import bibiliotek tensorflow i keras"
   ]
  },
  {
   "cell_type": "code",
   "execution_count": 4,
   "metadata": {},
   "outputs": [
    {
     "name": "stderr",
     "output_type": "stream",
     "text": [
      "Using TensorFlow backend.\n"
     ]
    }
   ],
   "source": [
    "import tensorflow as tf\n",
    "from tensorflow.python.tools import freeze_graph\n",
    "from tensorflow.python.tools import optimize_for_inference_lib\n",
    "\n",
    "from keras.preprocessing.image import ImageDataGenerator\n",
    "from keras.models import Sequential\n",
    "from keras.layers import Conv2D, MaxPooling2D\n",
    "from keras.layers import Activation, Dropout, Flatten, Dense\n",
    "from keras import backend as K"
   ]
  },
  {
   "cell_type": "markdown",
   "metadata": {},
   "source": [
    "Zdefiniowanie funkcji która posłuży za export wyuczonego modelu"
   ]
  },
  {
   "cell_type": "code",
   "execution_count": 5,
   "metadata": {},
   "outputs": [],
   "source": [
    "def export_model(saver, model, input_node_names, output_node_name):\n",
    "    tf.train.write_graph(K.get_session().graph_def, 'out', 'human_detection_graph.pbtxt')\n",
    "\n",
    "    saver.save(K.get_session(), 'out/human_detection.chkp')\n",
    "\n",
    "    freeze_graph.freeze_graph('out/human_detection_graph.pbtxt', None, False, 'out/human_detection.chkp', output_node_name, \"save/restore_all\", \"save/Const:0\", 'out/frozen_human_detection.pb', True, \"\")\n",
    "\n",
    "    input_graph_def = tf.GraphDef()\n",
    "    with tf.gfile.Open('out/frozen_human_detection.pb', \"rb\") as f: input_graph_def.ParseFromString(f.read())\n",
    "\n",
    "    output_graph_def = optimize_for_inference_lib.optimize_for_inference(input_graph_def, input_node_names, [output_node_name], tf.float32.as_datatype_enum)\n",
    "\n",
    "    with tf.gfile.FastGFile('out/opt_human_detection.pb', \"wb\") as f: f.write(output_graph_def.SerializeToString())"
   ]
  },
  {
   "cell_type": "markdown",
   "metadata": {},
   "source": [
    "Definicja stałych oraz ustawienie o jakiej strukturze będą pliki graficzne"
   ]
  },
  {
   "cell_type": "code",
   "execution_count": 6,
   "metadata": {},
   "outputs": [],
   "source": [
    "IMG_WIDTH, IMG_HEIGHT = 100, 100\n",
    "\n",
    "EPOCHS = 50\n",
    "BATCH_SIZE = 16\n",
    "\n",
    "if K.image_data_format() == 'channels_first':\n",
    "    input_shape = (3, IMG_WIDTH, IMG_HEIGHT)\n",
    "else:\n",
    "    input_shape = (IMG_WIDTH, IMG_HEIGHT, 3)"
   ]
  },
  {
   "cell_type": "markdown",
   "metadata": {},
   "source": [
    "Stworzenie struktury sieci neuronowej"
   ]
  },
  {
   "cell_type": "code",
   "execution_count": 7,
   "metadata": {},
   "outputs": [
    {
     "name": "stdout",
     "output_type": "stream",
     "text": [
      "WARNING:tensorflow:From /opt/conda/lib/python3.7/site-packages/keras/backend/tensorflow_backend.py:66: The name tf.get_default_graph is deprecated. Please use tf.compat.v1.get_default_graph instead.\n",
      "\n",
      "WARNING:tensorflow:From /opt/conda/lib/python3.7/site-packages/keras/backend/tensorflow_backend.py:541: The name tf.placeholder is deprecated. Please use tf.compat.v1.placeholder instead.\n",
      "\n",
      "WARNING:tensorflow:From /opt/conda/lib/python3.7/site-packages/keras/backend/tensorflow_backend.py:4432: The name tf.random_uniform is deprecated. Please use tf.random.uniform instead.\n",
      "\n",
      "WARNING:tensorflow:From /opt/conda/lib/python3.7/site-packages/keras/backend/tensorflow_backend.py:4267: The name tf.nn.max_pool is deprecated. Please use tf.nn.max_pool2d instead.\n",
      "\n",
      "WARNING:tensorflow:From /opt/conda/lib/python3.7/site-packages/keras/optimizers.py:793: The name tf.train.Optimizer is deprecated. Please use tf.compat.v1.train.Optimizer instead.\n",
      "\n",
      "WARNING:tensorflow:From /opt/conda/lib/python3.7/site-packages/keras/backend/tensorflow_backend.py:3657: The name tf.log is deprecated. Please use tf.math.log instead.\n",
      "\n",
      "WARNING:tensorflow:From /opt/conda/lib/python3.7/site-packages/tensorflow/python/ops/nn_impl.py:180: add_dispatch_support.<locals>.wrapper (from tensorflow.python.ops.array_ops) is deprecated and will be removed in a future version.\n",
      "Instructions for updating:\n",
      "Use tf.where in 2.0, which has the same broadcast rule as np.where\n"
     ]
    }
   ],
   "source": [
    "model = Sequential()\n",
    "model.add(Conv2D(32, (3, 3), input_shape=input_shape))\n",
    "model.add(Activation('relu'))\n",
    "model.add(MaxPooling2D(pool_size = (2, 2)))\n",
    "\n",
    "model.add(Conv2D(32, (3, 3)))\n",
    "model.add(Activation('relu'))\n",
    "model.add(MaxPooling2D(pool_size = (2, 2)))\n",
    "\n",
    "model.add(Conv2D(64, (3, 3)))\n",
    "model.add(Activation('relu'))\n",
    "model.add(MaxPooling2D(pool_size = (2, 2)))\n",
    "\n",
    "model.add(Flatten())\n",
    "model.add(Dense(64))\n",
    "model.add(Activation('relu'))\n",
    "model.add(Dense(2, activation='sigmoid'))\n",
    "\n",
    "model.compile(loss='binary_crossentropy', optimizer='rmsprop', metrics=['accuracy'])"
   ]
  },
  {
   "cell_type": "markdown",
   "metadata": {},
   "source": [
    "Skonfigurowanie generatorów zestawów danych"
   ]
  },
  {
   "cell_type": "code",
   "execution_count": 8,
   "metadata": {},
   "outputs": [],
   "source": [
    "train_datagen = ImageDataGenerator(rescale=1. / 255, shear_range = 0.2, zoom_range = 0.2, horizontal_flip = True)\n",
    "test_datagen = ImageDataGenerator(rescale=1. / 255)"
   ]
  },
  {
   "cell_type": "markdown",
   "metadata": {},
   "source": [
    "Wygenerowanie większej ilości danych wejściowych"
   ]
  },
  {
   "cell_type": "code",
   "execution_count": 9,
   "metadata": {},
   "outputs": [
    {
     "name": "stdout",
     "output_type": "stream",
     "text": [
      "Found 3338 images belonging to 2 classes.\n",
      "Found 977 images belonging to 2 classes.\n",
      "WARNING:tensorflow:From /opt/conda/lib/python3.7/site-packages/keras/backend/tensorflow_backend.py:1033: The name tf.assign_add is deprecated. Please use tf.compat.v1.assign_add instead.\n",
      "\n",
      "Epoch 1/50\n",
      "114/114 [==============================] - 23s 203ms/step - loss: 0.6495 - acc: 0.7039 - val_loss: 0.7044 - val_acc: 0.4212\n",
      "Epoch 2/50\n",
      "114/114 [==============================] - 17s 153ms/step - loss: 0.6413 - acc: 0.6975 - val_loss: 0.9924 - val_acc: 0.1678\n",
      "Epoch 3/50\n",
      "114/114 [==============================] - 18s 160ms/step - loss: 0.7530 - acc: 0.6945 - val_loss: 1.0998 - val_acc: 0.2067\n",
      "Epoch 4/50\n",
      "114/114 [==============================] - 18s 158ms/step - loss: 3.4955 - acc: 0.6974 - val_loss: 13.3390 - val_acc: 0.1644\n",
      "Epoch 5/50\n",
      "114/114 [==============================] - 17s 153ms/step - loss: 7.7567 - acc: 0.5155 - val_loss: 8.0590 - val_acc: 0.5000\n",
      "Epoch 6/50\n",
      "114/114 [==============================] - 17s 149ms/step - loss: 10.9262 - acc: 0.3177 - val_loss: 2.5346 - val_acc: 0.8419\n",
      "Epoch 7/50\n",
      "114/114 [==============================] - 16s 142ms/step - loss: 11.6449 - acc: 0.2736 - val_loss: 2.6680 - val_acc: 0.8336\n",
      "Epoch 8/50\n",
      "114/114 [==============================] - 16s 139ms/step - loss: 11.6360 - acc: 0.2741 - val_loss: 2.5265 - val_acc: 0.8424\n",
      "Epoch 9/50\n",
      "114/114 [==============================] - 19s 170ms/step - loss: 11.4197 - acc: 0.2876 - val_loss: 2.8236 - val_acc: 0.8239\n",
      "Epoch 10/50\n",
      "114/114 [==============================] - 17s 153ms/step - loss: 11.6711 - acc: 0.2719 - val_loss: 2.2233 - val_acc: 0.8613\n",
      "Epoch 11/50\n",
      "114/114 [==============================] - 17s 148ms/step - loss: 11.6781 - acc: 0.2715 - val_loss: 3.0904 - val_acc: 0.8072\n",
      "Epoch 12/50\n",
      "114/114 [==============================] - 17s 147ms/step - loss: 11.5920 - acc: 0.2769 - val_loss: 2.3523 - val_acc: 0.8533\n",
      "Epoch 13/50\n",
      "114/114 [==============================] - 18s 154ms/step - loss: 11.5938 - acc: 0.2768 - val_loss: 2.7792 - val_acc: 0.8266\n",
      "Epoch 14/50\n",
      "114/114 [==============================] - 19s 167ms/step - loss: 11.9260 - acc: 0.2560 - val_loss: 2.8459 - val_acc: 0.8225\n",
      "Epoch 15/50\n",
      "114/114 [==============================] - 17s 148ms/step - loss: 11.3881 - acc: 0.2896 - val_loss: 2.2900 - val_acc: 0.8571\n",
      "Epoch 16/50\n",
      "114/114 [==============================] - 17s 150ms/step - loss: 11.4145 - acc: 0.2879 - val_loss: 2.6572 - val_acc: 0.8342\n",
      "Epoch 17/50\n",
      "114/114 [==============================] - 17s 149ms/step - loss: 11.8821 - acc: 0.2588 - val_loss: 2.6680 - val_acc: 0.8336\n",
      "Epoch 18/50\n",
      "114/114 [==============================] - 17s 149ms/step - loss: 11.5762 - acc: 0.2779 - val_loss: 2.3567 - val_acc: 0.8530\n",
      "Epoch 19/50\n",
      "114/114 [==============================] - 17s 145ms/step - loss: 11.6360 - acc: 0.2741 - val_loss: 2.7347 - val_acc: 0.8294\n",
      "Epoch 20/50\n",
      "114/114 [==============================] - 17s 146ms/step - loss: 11.5411 - acc: 0.2800 - val_loss: 2.7661 - val_acc: 0.8274\n",
      "Epoch 21/50\n",
      "114/114 [==============================] - 18s 155ms/step - loss: 11.6272 - acc: 0.2747 - val_loss: 2.5346 - val_acc: 0.8419\n",
      "Epoch 22/50\n",
      "114/114 [==============================] - 17s 150ms/step - loss: 11.5534 - acc: 0.2793 - val_loss: 2.5124 - val_acc: 0.8433\n",
      "Epoch 23/50\n",
      "114/114 [==============================] - 17s 151ms/step - loss: 11.3741 - acc: 0.2905 - val_loss: 2.6235 - val_acc: 0.8363\n",
      "Epoch 24/50\n",
      "114/114 [==============================] - 18s 157ms/step - loss: 11.9278 - acc: 0.2559 - val_loss: 2.4394 - val_acc: 0.8478\n",
      "Epoch 25/50\n",
      "114/114 [==============================] - 19s 168ms/step - loss: 11.6096 - acc: 0.2758 - val_loss: 2.8014 - val_acc: 0.8252\n",
      "Epoch 26/50\n",
      "114/114 [==============================] - 18s 154ms/step - loss: 11.3284 - acc: 0.2933 - val_loss: 2.5124 - val_acc: 0.8433\n",
      "Epoch 27/50\n",
      "114/114 [==============================] - 17s 145ms/step - loss: 11.8733 - acc: 0.2593 - val_loss: 2.6902 - val_acc: 0.8322\n",
      "Epoch 28/50\n",
      "114/114 [==============================] - 16s 143ms/step - loss: 11.6326 - acc: 0.2743 - val_loss: 2.5918 - val_acc: 0.8383\n",
      "Epoch 29/50\n",
      "114/114 [==============================] - 18s 154ms/step - loss: 11.4690 - acc: 0.2845 - val_loss: 2.4012 - val_acc: 0.8502\n",
      "Epoch 30/50\n",
      "114/114 [==============================] - 17s 151ms/step - loss: 11.5639 - acc: 0.2786 - val_loss: 2.8014 - val_acc: 0.8252\n",
      "Epoch 31/50\n",
      "114/114 [==============================] - 18s 158ms/step - loss: 11.8118 - acc: 0.2632 - val_loss: 2.6458 - val_acc: 0.8350\n",
      "Epoch 32/50\n",
      "114/114 [==============================] - 17s 145ms/step - loss: 11.5393 - acc: 0.2802 - val_loss: 2.5047 - val_acc: 0.8438\n",
      "Epoch 33/50\n",
      "114/114 [==============================] - 17s 153ms/step - loss: 11.5850 - acc: 0.2773 - val_loss: 2.8014 - val_acc: 0.8252\n",
      "Epoch 34/50\n",
      "114/114 [==============================] - 17s 145ms/step - loss: 11.6711 - acc: 0.2719 - val_loss: 2.3567 - val_acc: 0.8530\n",
      "Epoch 35/50\n",
      "114/114 [==============================] - 17s 151ms/step - loss: 11.5411 - acc: 0.2800 - val_loss: 2.8096 - val_acc: 0.8247\n",
      "Epoch 36/50\n",
      "114/114 [==============================] - 17s 149ms/step - loss: 11.6008 - acc: 0.2763 - val_loss: 2.5124 - val_acc: 0.8433\n",
      "Epoch 37/50\n",
      "114/114 [==============================] - 17s 149ms/step - loss: 11.7096 - acc: 0.2695 - val_loss: 2.6680 - val_acc: 0.8336\n",
      "Epoch 38/50\n",
      "114/114 [==============================] - 17s 151ms/step - loss: 11.5657 - acc: 0.2785 - val_loss: 2.5346 - val_acc: 0.8419\n",
      "Epoch 39/50\n",
      "114/114 [==============================] - 17s 145ms/step - loss: 11.5359 - acc: 0.2804 - val_loss: 2.6572 - val_acc: 0.8342\n",
      "Epoch 40/50\n",
      "114/114 [==============================] - 17s 147ms/step - loss: 11.6624 - acc: 0.2725 - val_loss: 2.5568 - val_acc: 0.8405\n",
      "Epoch 41/50\n",
      "114/114 [==============================] - 18s 158ms/step - loss: 11.6606 - acc: 0.2726 - val_loss: 2.5346 - val_acc: 0.8419\n",
      "Epoch 42/50\n",
      "114/114 [==============================] - 17s 146ms/step - loss: 11.6008 - acc: 0.2763 - val_loss: 2.6902 - val_acc: 0.8322\n",
      "Epoch 43/50\n",
      "114/114 [==============================] - 17s 145ms/step - loss: 11.6430 - acc: 0.2737 - val_loss: 2.5483 - val_acc: 0.8410\n",
      "Epoch 44/50\n",
      "114/114 [==============================] - 18s 154ms/step - loss: 11.5657 - acc: 0.2785 - val_loss: 2.8459 - val_acc: 0.8225\n",
      "Epoch 45/50\n",
      "114/114 [==============================] - 17s 145ms/step - loss: 11.5095 - acc: 0.2820 - val_loss: 2.4012 - val_acc: 0.8502\n",
      "Epoch 46/50\n",
      "114/114 [==============================] - 17s 148ms/step - loss: 11.7484 - acc: 0.2671 - val_loss: 2.7125 - val_acc: 0.8308\n",
      "Epoch 47/50\n",
      "114/114 [==============================] - 16s 141ms/step - loss: 11.5569 - acc: 0.2791 - val_loss: 2.6572 - val_acc: 0.8342\n",
      "Epoch 48/50\n",
      "114/114 [==============================] - 16s 144ms/step - loss: 11.6008 - acc: 0.2763 - val_loss: 2.5346 - val_acc: 0.8419\n",
      "Epoch 49/50\n",
      "114/114 [==============================] - 17s 146ms/step - loss: 11.6448 - acc: 0.2736 - val_loss: 2.7792 - val_acc: 0.8266\n",
      "Epoch 50/50\n",
      "114/114 [==============================] - 16s 141ms/step - loss: 11.6590 - acc: 0.2727 - val_loss: 2.5568 - val_acc: 0.8405\n"
     ]
    },
    {
     "data": {
      "text/plain": [
       "<keras.callbacks.History at 0x7fb7be1d6cf8>"
      ]
     },
     "execution_count": 9,
     "metadata": {},
     "output_type": "execute_result"
    }
   ],
   "source": [
    "train_generator = train_datagen.flow_from_directory('data/train', target_size = (IMG_WIDTH, IMG_HEIGHT), batch_size = BATCH_SIZE, color_mode = \"rgb\", class_mode = 'categorical')\n",
    "validation_generator = test_datagen.flow_from_directory('data/test', target_size = (IMG_WIDTH, IMG_HEIGHT), batch_size = BATCH_SIZE, color_mode = \"rgb\", class_mode = 'categorical')\n",
    "model.fit_generator(train_generator, steps_per_epoch=1832 // BATCH_SIZE, epochs = EPOCHS, validation_data = validation_generator, validation_steps = 741 // BATCH_SIZE)"
   ]
  },
  {
   "cell_type": "markdown",
   "metadata": {},
   "source": [
    "Zapisywanie wag"
   ]
  },
  {
   "cell_type": "code",
   "execution_count": 10,
   "metadata": {},
   "outputs": [],
   "source": [
    "model.save_weights('weights.h5')"
   ]
  },
  {
   "cell_type": "markdown",
   "metadata": {},
   "source": [
    "A następnie eksportowany jest model do katalogu out"
   ]
  },
  {
   "cell_type": "code",
   "execution_count": 11,
   "metadata": {},
   "outputs": [
    {
     "name": "stdout",
     "output_type": "stream",
     "text": [
      "WARNING:tensorflow:From /opt/conda/lib/python3.7/site-packages/tensorflow/python/tools/freeze_graph.py:127: checkpoint_exists (from tensorflow.python.training.checkpoint_management) is deprecated and will be removed in a future version.\n",
      "Instructions for updating:\n",
      "Use standard file APIs to check for files with this prefix.\n",
      "INFO:tensorflow:Restoring parameters from out/human_detection.chkp\n",
      "WARNING:tensorflow:From /opt/conda/lib/python3.7/site-packages/tensorflow/python/tools/freeze_graph.py:233: convert_variables_to_constants (from tensorflow.python.framework.graph_util_impl) is deprecated and will be removed in a future version.\n",
      "Instructions for updating:\n",
      "Use `tf.compat.v1.graph_util.convert_variables_to_constants`\n",
      "WARNING:tensorflow:From /opt/conda/lib/python3.7/site-packages/tensorflow/python/framework/graph_util_impl.py:270: extract_sub_graph (from tensorflow.python.framework.graph_util_impl) is deprecated and will be removed in a future version.\n",
      "Instructions for updating:\n",
      "Use `tf.compat.v1.graph_util.extract_sub_graph`\n",
      "INFO:tensorflow:Froze 10 variables.\n",
      "INFO:tensorflow:Converted 10 variables to const ops.\n",
      "WARNING:tensorflow:From /opt/conda/lib/python3.7/site-packages/tensorflow/python/tools/optimize_for_inference_lib.py:113: remove_training_nodes (from tensorflow.python.framework.graph_util_impl) is deprecated and will be removed in a future version.\n",
      "Instructions for updating:\n",
      "Use `tf.compat.v1.graph_util.remove_training_nodes`\n",
      "WARNING:tensorflow:From <ipython-input-5-b0b3016d5278>:13: FastGFile.__init__ (from tensorflow.python.platform.gfile) is deprecated and will be removed in a future version.\n",
      "Instructions for updating:\n",
      "Use tf.gfile.GFile.\n"
     ]
    }
   ],
   "source": [
    "export_model(tf.train.Saver(), model, [\"conv2d_1_input\"], \"dense_2/Sigmoid\")"
   ]
  },
  {
   "cell_type": "code",
   "execution_count": null,
   "metadata": {},
   "outputs": [],
   "source": []
  }
 ],
 "metadata": {
  "kernelspec": {
   "display_name": "Python 3",
   "language": "python",
   "name": "python3"
  },
  "language_info": {
   "codemirror_mode": {
    "name": "ipython",
    "version": 3
   },
   "file_extension": ".py",
   "mimetype": "text/x-python",
   "name": "python",
   "nbconvert_exporter": "python",
   "pygments_lexer": "ipython3",
   "version": "3.7.3"
  },
  "toc": {
   "base_numbering": 1,
   "nav_menu": {},
   "number_sections": false,
   "sideBar": false,
   "skip_h1_title": false,
   "title_cell": "Table of Contents",
   "title_sidebar": "Contents",
   "toc_cell": false,
   "toc_position": {},
   "toc_section_display": false,
   "toc_window_display": false
  }
 },
 "nbformat": 4,
 "nbformat_minor": 2
}
